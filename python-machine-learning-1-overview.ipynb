{
 "cells": [
  {
   "cell_type": "markdown",
   "metadata": {},
   "source": [
    "# Machine Learning\n",
    "\n",
    "Tom Mitchell provides the definition as : \"A computer program is said to learn from experience E with respect to some class of tasks T and performance measure P, if its performance at tasks in T, as measured by P, improves with experience E.\"\n",
    "\n",
    "Essentially, Machine Learning is a program that learns to do a task by experience. The key thing that distinguishes machine learning from a typical computer program is that, it is not programmed with logic to perform the task as a traditional program would, it is instead programmed to learn so that the computer can perform the task.\n",
    "\n",
    "## Supervised Machine Learning\n",
    "\n",
    "In supervised learning, the data set already contain the correct output.\n",
    "\n",
    "**Regression Problem**\n",
    "\n",
    "**Classification Problem**\n",
    "\n",
    "## Unsupervised Machine Learning\n",
    "\n",
    "## Cost Function\n",
    "\n"
   ]
  }
 ],
 "metadata": {
  "kernelspec": {
   "display_name": "Python 3",
   "language": "python",
   "name": "python3"
  },
  "language_info": {
   "codemirror_mode": {
    "name": "ipython",
    "version": 3
   },
   "file_extension": ".py",
   "mimetype": "text/x-python",
   "name": "python",
   "nbconvert_exporter": "python",
   "pygments_lexer": "ipython3",
   "version": "3.6.0"
  }
 },
 "nbformat": 4,
 "nbformat_minor": 2
}
