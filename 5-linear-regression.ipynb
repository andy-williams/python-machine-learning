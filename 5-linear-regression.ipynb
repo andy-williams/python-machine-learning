{
 "cells": [
  {
   "cell_type": "markdown",
   "metadata": {},
   "source": [
    "# Linear Regression\n",
    "\n",
    "Linear regression is basically solving a regression problem where data set is linear.\n",
    "\n",
    "The basic idea is to fit a line to the data set. This is usually done using least squares which minises the squared error between each data point and the line that we draw to make predictions.\n",
    "\n",
    "## How to perform a linear regression\n",
    "\n",
    "### Hypothesis\n",
    "\n",
    "A Hypothesis is a way for us to create a line to fit against a given data set.\n",
    "\n",
    "A Hypothesis for a single feature can be described as: $h_\\theta(x) = \\theta_0 + \\theta_1x$\n",
    "\n",
    "$\\theta_0$ is used as our bias, we can use this to shift our entire line by an absolute value.\n",
    "\n",
    "Note that this only works with single variable - the variable being $\\theta_1x$\n",
    "\n",
    "If we wanted a hypothesis that can be used to describe linear regression with $n$ features, we would describe it as:\n",
    "\n",
    "$h_\\theta(x) = \\theta_0 + \\theta_1x_1 + \\ldots + \\theta_nx_n$\n",
    "\n",
    "Where $n$ is the length of the data set.\n",
    "\n",
    "$h_\\theta(x) = \\theta\\intercal$\n",
    "\n",
    "The goal as previously mentioned is to minimise how far our line is against the given data set. We measure how far our line is against the given data set using a cost function.\n",
    "\n",
    "### Least Squares\n",
    "\n",
    "### Gradient Descent\n",
    "\n",
    "## Cost Function\n",
    "\n",
    "A Cost or Loss Function is a function that tells us how far or close our fit is against a given data set. There are a few ways of doing this, two of which are squared error and r-squared.\n",
    "\n",
    "### Squared Error\n",
    "\n",
    "A squared error or mean squared error is a function that outputs the distance between two points.\n",
    "\n",
    "The behaviour is defined as $J(\\theta_0, \\theta_1) = \\frac{1}{2m} \\sum_{i=1}^m (h_\\theta(x^{(i)}) - y^{(i)})^{2}$\n",
    "\n",
    "### R-Squared\n",
    "\n",
    "r-squared is another way of measuring the rate of error (how close of a fit we have to our data set).\n",
    "\n",
    "\n"
   ]
  },
  {
   "cell_type": "markdown",
   "metadata": {},
   "source": [
    "## In-depth Implementation\n",
    "\n",
    "Let's first implement linear regression with our own hand-written algorithms to get some in-depth knowledge of how everything actually works."
   ]
  },
  {
   "cell_type": "markdown",
   "metadata": {},
   "source": [
    "## Simplified Implementation\n",
    "\n",
    "In real-world cases, we would actually use some library that has pretty much everything we need. Let's take a look at how we would go about doing this with `scipy`."
   ]
  },
  {
   "cell_type": "markdown",
   "metadata": {},
   "source": [
    "### Let's Create Some Dummy Data"
   ]
  },
  {
   "cell_type": "code",
   "execution_count": 1,
   "metadata": {
    "collapsed": false
   },
   "outputs": [],
   "source": [
    "import numpy as np\n",
    "from matplotlib import pyplot as plt"
   ]
  },
  {
   "cell_type": "code",
   "execution_count": 2,
   "metadata": {
    "collapsed": false
   },
   "outputs": [
    {
     "data": {
      "image/png": "[encoded data removed]",
      "text/plain": [
       "<matplotlib.figure.Figure at 0x8081ba8>"
      ]
     },
     "metadata": {},
     "output_type": "display_data"
    }
   ],
   "source": [
    "houseSizeInSqFt = np.random.normal(400, 100, 500)\n",
    "housePrice = (houseSizeInSqFt + np.random.normal(0, 10, 500)) * 40\n",
    "\n",
    "plt.scatter(housePrice, houseSizeInSqFt)\n",
    "plt.xlabel('House Price')\n",
    "plt.ylabel('House Size in Sqft')\n",
    "plt.show()"
   ]
  },
  {
   "cell_type": "markdown",
   "metadata": {},
   "source": [
    "We can see here that there is a linear relationship between the size of the house and its price."
   ]
  },
  {
   "cell_type": "markdown",
   "metadata": {},
   "source": []
  }
 ],
 "metadata": {
  "kernelspec": {
   "display_name": "Python 3",
   "language": "python",
   "name": "python3"
  },
  "language_info": {
   "codemirror_mode": {
    "name": "ipython",
    "version": 3
   },
   "file_extension": ".py",
   "mimetype": "text/x-python",
   "name": "python",
   "nbconvert_exporter": "python",
   "pygments_lexer": "ipython3",
   "version": "3.6.0"
  }
 },
 "nbformat": 4,
 "nbformat_minor": 2
}
